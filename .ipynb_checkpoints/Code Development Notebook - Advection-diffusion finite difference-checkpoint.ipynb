{
 "cells": [
  {
   "cell_type": "markdown",
   "metadata": {},
   "source": [
    "Given the equations \n",
    "$$\n",
    "a \\cdot \\nabla \\phi -  \\kappa \\Delta \\phi = 0\\\\\n",
    "\\phi(0) = 0\\\\\n",
    "\\phi(1) = 1\\\\\n",
    "\\kappa = 1\\\\\n",
    "a = 1 \\ and\\  10\\\\\n",
    "L = 1\n",
    "$$\n",
    "\n",
    "find approximate solutions of $\\phi(x)$ for each of the following (combining each option, and convective velocities):\n",
    "- central difference for the diffusion term\n",
    "- central and up-wind for the convective term\n",
    "- uniform discretization with 3 and 5 nodes\n",
    "\n",
    "and compare to the exact solution given by \n",
    "$$\n",
    "\\phi(x) = \\frac{e^{Pe\\frac{x}{L}}-1}{e^{Pe}-1}\\\\\n",
    "Pe = \\frac{a \\cdot L}{\\kappa}\\\\\n",
    "$$\n",
    "\n",
    "Plot a total of 8 graphs for different convective velocities, convection schemes, and discretization, comparing with the exact solution. For each plot, describe the accuracy and behaviour of solution. "
   ]
  },
  {
   "cell_type": "markdown",
   "metadata": {},
   "source": [
    "The operator $ a \\cdot \\nabla$ is equivalent to $a \\partial / \\partial x$ for this problem, and $\\Delta = \\nabla ^2 = \\partial^2 / \\partial x^2$. According to the calculations done in the course, the formulations for these operators is\n",
    "- Central difference 2nd order:\n",
    "$$\n",
    "\\partial^2 u/ \\partial x^2 = \\frac{u_{i-1}-2u_i + u_{i+1}}{\\Delta x^2} + O(\\Delta x^2)\n",
    "$$\n",
    "- Central difference 1st order:\n",
    "$$\n",
    "\\partial u/ \\partial x = \\frac{u_{i+1} - u_{i-1}}{2\\Delta x} + O(\\Delta x^2)\n",
    "$$\n",
    "- Forward difference 1st order:\n",
    "$$\n",
    "\\partial u/ \\partial x = \\frac{u_{i+1} - u_{i}}{\\Delta x} + O(\\Delta x)\n",
    "$$\n",
    "\n",
    "so ignoring the error as that is not a calculated term, but a representation of the total error of this approximation, the equation we want to solve is either \n",
    "- (1)\n",
    "$$\n",
    "a \\cdot \\frac{\\phi_{i+1} - \\phi_{i-1}}{2\\Delta x} - \\kappa \\frac{\\phi_{i-1}-2\\phi_i + \\phi_{i+1}}{\\Delta x^2} = 0\\\\\n",
    "\\implies \\phi_i = \\frac{\\phi_{i+1} + \\phi_{i-1}}{2} + \\frac{\\Delta x}{2\\kappa} \\left( a \\cdot \\frac{\\phi_{i+1} - \\phi_{i-1}}{2} \\right)\n",
    "$$\n",
    "\n",
    "and \n",
    "- (2)\n",
    "$$\n",
    "a \\cdot \\frac{\\phi_{i+1} - \\phi_{i}}{\\Delta x} - \\kappa \\frac{\\phi_{i-1}-2\\phi_i + \\phi_{i+1}}{\\Delta x^2} = 0\\\\\n",
    "\\implies \\phi_i  = -\\frac{\\frac{a}{\\Delta x}\\phi_{i+1} + \\frac{\\kappa}{\\Delta x^2} ( \\phi_{i-1} + \\phi_{i+1} )}{\\left( \\frac{a}{\\Delta x} - \\frac{2\\kappa}{\\Delta x^2}\\right)}\n",
    "$$\n"
   ]
  },
  {
   "cell_type": "code",
   "execution_count": 1,
   "metadata": {},
   "outputs": [],
   "source": [
    "## Imports\n",
    "import numpy as np\n",
    "import matplotlib.pyplot as plt"
   ]
  },
  {
   "cell_type": "code",
   "execution_count": 2,
   "metadata": {},
   "outputs": [],
   "source": [
    "## Variables\n",
    "a = [1,10]\n",
    "k = 1\n",
    "L = 1\n",
    "x_3 = np.linspace(0,1,3)\n",
    "x_5 = np.linspace(0,1,5)"
   ]
  },
  {
   "cell_type": "code",
   "execution_count": 3,
   "metadata": {},
   "outputs": [],
   "source": [
    "## define exact solution equations\n",
    "def phi_exact(x,  Pe, L):\n",
    "    \"calculates the exact value of the solution\"\n",
    "    phi = (np.exp(Pe*(x/L))-1)/(np.exp(Pe)-1)\n",
    "    return phi\n",
    "                    \n",
    "def Peclet(a, L, k):\n",
    "    \"calculates peclet number\"\n",
    "    Pe = a*L/k\n",
    "    return Pe         "
   ]
  },
  {
   "cell_type": "code",
   "execution_count": 9,
   "metadata": {},
   "outputs": [
    {
     "data": {
      "text/plain": [
       "[<matplotlib.lines.Line2D at 0x1c223783460>]"
      ]
     },
     "execution_count": 9,
     "metadata": {},
     "output_type": "execute_result"
    },
    {
     "data": {
      "image/png": "[encoded data removed]",
      "text/plain": [
       "<Figure size 432x288 with 1 Axes>"
      ]
     },
     "metadata": {
      "needs_background": "light"
     },
     "output_type": "display_data"
    }
   ],
   "source": [
    "## plot exact equations\n",
    "x_exact = np.linspace(0,1,100)\n",
    "Pe = Peclet(a[1], L, k)\n",
    "phi = phi_exact(x_exact, Pe, L)\n",
    "plt.plot(x_exact, phi)"
   ]
  },
  {
   "cell_type": "markdown",
   "metadata": {},
   "source": [
    "First Approach\n",
    "In this approach, from the formulations we made, we can create an iterative approach. However we need to first address the issue that the first pass will encounter values that are not yet valid. The way I will handle that is by selectively ignoring the terms that are not yet valid. This is a naive approach and we could speed the process up by taking different first guesses, such as interpolating between the boundaries,but that would be less general. The way this is set up, no assumption is made about the boundary conditions other then that they exist. In these equations, this is equivalent to setting those values to zero."
   ]
  },
  {
   "cell_type": "code",
   "execution_count": 852,
   "metadata": {
    "scrolled": true
   },
   "outputs": [
    {
     "name": "stdout",
     "output_type": "stream",
     "text": [
      "[[0.         0.01010101 0.02020202 0.03030303 0.04040404 0.05050505\n",
      "  0.06060606 0.07070707 0.08080808 0.09090909 0.1010101  0.11111111\n",
      "  0.12121212 0.13131313 0.14141414 0.15151515 0.16161616 0.17171717\n",
      "  0.18181818 0.19191919 0.2020202  0.21212121 0.22222222 0.23232323\n",
      "  0.24242424 0.25252525 0.26262626 0.27272727 0.28282828 0.29292929\n",
      "  0.3030303  0.31313131 0.32323232 0.33333333 0.34343434 0.35353535\n",
      "  0.36363636 0.37373737 0.38383838 0.39393939 0.4040404  0.41414141\n",
      "  0.42424242 0.43434343 0.44444444 0.45454545 0.46464646 0.47474747\n",
      "  0.48484848 0.49494949 0.50505051 0.51515152 0.52525253 0.53535354\n",
      "  0.54545455 0.55555556 0.56565657 0.57575758 0.58585859 0.5959596\n",
      "  0.60606061 0.61616162 0.62626263 0.63636364 0.64646465 0.65656566\n",
      "  0.66666667 0.67676768 0.68686869 0.6969697  0.70707071 0.71717172\n",
      "  0.72727273 0.73737374 0.74747475 0.75757576 0.76767677 0.77777778\n",
      "  0.78787879 0.7979798  0.80808081 0.81818182 0.82828283 0.83838384\n",
      "  0.84848485 0.85858586 0.86868687 0.87878788 0.88888889 0.8989899\n",
      "  0.90909091 0.91919192 0.92929293 0.93939394 0.94949495 0.95959596\n",
      "  0.96969697 0.97979798 0.98989899 1.        ]\n",
      " [0.                nan        nan        nan        nan        nan\n",
      "         nan        nan        nan        nan        nan        nan\n",
      "         nan        nan        nan        nan        nan        nan\n",
      "         nan        nan        nan        nan        nan        nan\n",
      "         nan        nan        nan        nan        nan        nan\n",
      "         nan        nan        nan        nan        nan        nan\n",
      "         nan        nan        nan        nan        nan        nan\n",
      "         nan        nan        nan        nan        nan        nan\n",
      "         nan        nan        nan        nan        nan        nan\n",
      "         nan        nan        nan        nan        nan        nan\n",
      "         nan        nan        nan        nan        nan        nan\n",
      "         nan        nan        nan        nan        nan        nan\n",
      "         nan        nan        nan        nan        nan        nan\n",
      "         nan        nan        nan        nan        nan        nan\n",
      "         nan        nan        nan        nan        nan        nan\n",
      "         nan        nan        nan        nan        nan        nan\n",
      "         nan        nan        nan 1.        ]] [ True False False False False False False False False False False False\n",
      " False False False False False False False False False False False False\n",
      " False False False False False False False False False False False False\n",
      " False False False False False False False False False False False False\n",
      " False False False False False False False False False False False False\n",
      " False False False False False False False False False False False False\n",
      " False False False False False False False False False False False False\n",
      " False False False False False False False False False False False False\n",
      " False False False  True]\n"
     ]
    }
   ],
   "source": [
    "## Setting up a \"mesh\"\n",
    "def create_mesh(boundary_values, boundary_locations, n_nodes, dimensions):\n",
    "    \"\"\"\n",
    "    takes 1d mesh conditions and returns a vector that only has values\n",
    "    where boundary conditions were specified. Row 0 is the coordinates\n",
    "    and Row 1 is the array values\n",
    "    \"\"\"\n",
    "    #create array of invalid values\n",
    "    mesh_values = np.full((n_nodes), np.nan)\n",
    "    \n",
    "    #create array with correct coordinates\n",
    "    mesh_coordinates = np.linspace(*dimensions, n_nodes)\n",
    "    \n",
    "    #stack the two arrays\n",
    "    mesh = np.stack([mesh_coordinates, mesh_values])\n",
    "    \n",
    "    #find the array index to apply the boundary condition to\n",
    "    boundary_indices = np.in1d(mesh[0, :], boundary_locations)\n",
    "    \n",
    "    #update the values array with the boundary conditions\n",
    "    mesh[1, boundary_indices] = boundary_values\n",
    "    \n",
    "    return mesh, boundary_indices\n",
    "\n",
    "mesh, indices = create_mesh(boundary_values = [0,1], boundary_locations = [0,1], n_nodes = 100, dimensions = [0,1])\n",
    "print(mesh, indices)"
   ]
  },
  {
   "cell_type": "markdown",
   "metadata": {},
   "source": [
    "$$\n",
    "a \\cdot \\frac{\\phi_{i+1} - \\phi_{i-1}}{2\\Delta x} - \\kappa \\frac{\\phi_{i-1}-2\\phi_i + \\phi_{i+1}}{\\Delta x^2} = 0\\\\\n",
    "\\implies \\phi_i = \\frac{\\phi_{i+1} + \\phi_{i-1}}{2} + \\frac{\\Delta x}{2\\kappa} \\left( a \\cdot \\frac{\\phi_{i+1} - \\phi_{i-1}}{2} \\right)\n",
    "$$"
   ]
  },
  {
   "cell_type": "code",
   "execution_count": 923,
   "metadata": {},
   "outputs": [
    {
     "data": {
      "text/plain": [
       "[<matplotlib.lines.Line2D at 0x1c254ccc100>]"
      ]
     },
     "execution_count": 923,
     "metadata": {},
     "output_type": "execute_result"
    },
    {
     "data": {
      "image/png": "[encoded data removed]",
      "text/plain": [
       "<Figure size 432x288 with 1 Axes>"
      ]
     },
     "metadata": {
      "needs_background": "light"
     },
     "output_type": "display_data"
    }
   ],
   "source": [
    "## Setting up the basic finite difference functions\n",
    "def phi_CD_only(mesh_values, i):\n",
    "    \"\"\"\n",
    "    takes a mesh array and a current index\n",
    "    and applies the equation at the current location based on current values\n",
    "    using the central difference method for both the convection and diffusion\n",
    "    \"\"\"\n",
    "    ##calculate the terms\n",
    "    ##handle invalid values\n",
    "    dx = 0.25\n",
    "    k=1\n",
    "    a=1\n",
    "    phi = mesh_values[i-1:i+2]\n",
    "    phi[np.isnan(phi)]=0\n",
    "    #print(phi)\n",
    "    \n",
    "    term_1 = phi[0]*(a*dx + 2*k)\n",
    "    term_2 = phi[2]*(2*k-a*dx)\n",
    "    phi[1] = (term_1 + term_2)/4*k\n",
    "    return None\n",
    "\n",
    "def array_iteration(fun, mesh, fixed_index):\n",
    "    \"\"\"\n",
    "    takes a function and a mesh, and iterates through the mesh\n",
    "    values with the function\n",
    "    \"\"\"\n",
    "    dx = 0.25\n",
    "    \n",
    "    for i, coordinate in enumerate(mesh[0]):\n",
    "        ## if the location isn't a boundary condition\n",
    "        if not(fixed_index[i]):\n",
    "            #print(i)\n",
    "            fun(mesh[1], i)\n",
    "    \n",
    "array_iteration(phi_CD_only, mesh, indices) \n",
    "#print(mesh)\n",
    "plt.plot(mesh[0],mesh[1])"
   ]
  },
  {
   "cell_type": "code",
   "execution_count": 120,
   "metadata": {},
   "outputs": [
    {
     "data": {
      "text/plain": [
       "[<matplotlib.lines.Line2D at 0x1c2238a93a0>]"
      ]
     },
     "execution_count": 120,
     "metadata": {},
     "output_type": "execute_result"
    },
    {
     "data": {
      "image/png": "[encoded data removed]",
      "text/plain": [
       "<Figure size 432x288 with 1 Axes>"
      ]
     },
     "metadata": {
      "needs_background": "light"
     },
     "output_type": "display_data"
    }
   ],
   "source": [
    "plt.plot(mesh[0],mesh[1])"
   ]
  }
 ],
 "metadata": {
  "kernelspec": {
   "display_name": "Python 3",
   "language": "python",
   "name": "python3"
  },
  "language_info": {
   "codemirror_mode": {
    "name": "ipython",
    "version": 3
   },
   "file_extension": ".py",
   "mimetype": "text/x-python",
   "name": "python",
   "nbconvert_exporter": "python",
   "pygments_lexer": "ipython3",
   "version": "3.8.3"
  }
 },
 "nbformat": 4,
 "nbformat_minor": 4
}
