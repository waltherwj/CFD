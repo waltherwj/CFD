{
 "cells": [
  {
   "cell_type": "markdown",
   "metadata": {},
   "source": [
    "Given the equations \n",
    "$$\n",
    "a \\cdot \\nabla \\phi -  \\kappa \\Delta \\phi = 0\\\\\n",
    "\\phi(0) = 0\\\\\n",
    "\\phi(1) = 1\\\\\n",
    "\\kappa = 1\\\\\n",
    "a = 1 \\ and\\  10\\\\\n",
    "L = 1\n",
    "$$\n",
    "\n",
    "find approximate solutions of $\\phi(x)$ for each of the following (combining each option, and convective velocities):\n",
    "- central difference for the diffusion term\n",
    "- central and up-wind for the convective term\n",
    "- uniform discretization with 3 and 5 nodes\n",
    "\n",
    "and compare to the exact solution given by \n",
    "$$\n",
    "\\phi(x) = \\frac{e^{Pe\\frac{x}{L}}-1}{e^{Pe}-1}\\\\\n",
    "Pe = \\frac{a \\cdot L}{\\kappa}\\\\\n",
    "$$\n",
    "\n",
    "Plot a total of 8 graphs for different convective velocities, convection schemes, and discretization, comparing with the exact solution. For each plot, describe the accuracy and behaviour of solution. "
   ]
  },
  {
   "cell_type": "markdown",
   "metadata": {},
   "source": [
    "The operator $ a \\cdot \\nabla$ is equivalent to $a \\partial / \\partial x$ for this problem, and $\\Delta = \\nabla ^2 = \\partial^2 / \\partial x^2$. According to the calculations done in the course, the formulations for these operators is\n",
    "- Central difference 2nd order:\n",
    "$$\n",
    "\\partial^2 u/ \\partial x^2 = \\frac{u_{i-1}-2u_i + u_{i+1}}{\\Delta x^2} + O(\\Delta x^2)\n",
    "$$\n",
    "- Central difference 1st order:\n",
    "$$\n",
    "\\partial u/ \\partial x = \\frac{u_{i+1} - u_{i-1}}{2\\Delta x} + O(\\Delta x^2)\n",
    "$$\n",
    "- Forward difference 1st order:\n",
    "$$\n",
    "\\partial u/ \\partial x = \\frac{u_{i+1} - u_{i}}{\\Delta x} + O(\\Delta x)\n",
    "$$\n",
    "\n",
    "so ignoring the error as that is not a calculated term, but a representation of the total error of this approximation, the equation we want to solve is either \n",
    "- (1)\n",
    "$$\n",
    "a \\cdot \\frac{\\phi_{i+1} - \\phi_{i-1}}{2\\Delta x} - \\kappa \\frac{\\phi_{i-1}-2\\phi_i + \\phi_{i+1}}{\\Delta x^2} = 0\\\\\n",
    "\\implies \\phi_i = \\frac{\\phi_{i+1} + \\phi_{i-1}}{2} + \\frac{\\Delta x}{2\\kappa} \\left( a \\cdot \\frac{\\phi_{i+1} - \\phi_{i-1}}{2} \\right)\n",
    "$$\n",
    "\n",
    "and \n",
    "- (2)\n",
    "$$\n",
    "a \\cdot \\frac{\\phi_{i+1} - \\phi_{i}}{\\Delta x} - \\kappa \\frac{\\phi_{i-1}-2\\phi_i + \\phi_{i+1}}{\\Delta x^2} = 0\\\\\n",
    "\\implies \\phi_i  = -\\frac{\\frac{a}{\\Delta x}\\phi_{i+1} + \\frac{\\kappa}{\\Delta x^2} ( \\phi_{i-1} + \\phi_{i+1} )}{\\left( \\frac{a}{\\Delta x} - \\frac{2\\kappa}{\\Delta x^2}\\right)}\n",
    "$$\n"
   ]
  },
  {
   "cell_type": "code",
   "execution_count": 2,
   "metadata": {},
   "outputs": [],
   "source": [
    "## Imports\n",
    "import numpy as np\n",
    "import matplotlib.pyplot as plt"
   ]
  },
  {
   "cell_type": "code",
   "execution_count": 243,
   "metadata": {},
   "outputs": [],
   "source": [
    "## Given Variables\n",
    "a = [1,10]\n",
    "k = 1\n",
    "L = 1\n",
    "n_nodes_exact = 100\n",
    "n_iter = 25"
   ]
  },
  {
   "cell_type": "code",
   "execution_count": 5,
   "metadata": {},
   "outputs": [],
   "source": [
    "## define exact solution equations\n",
    "def phi_exact(x,  Pe, L):\n",
    "    \"calculates the exact value of the solution\"\n",
    "    phi = (np.exp(Pe*(x/L))-1)/(np.exp(Pe)-1)\n",
    "    return phi\n",
    "                    \n",
    "def Peclet(a, L, k):\n",
    "    \"calculates peclet number\"\n",
    "    Pe = a*L/k\n",
    "    return Pe         "
   ]
  },
  {
   "cell_type": "code",
   "execution_count": 6,
   "metadata": {},
   "outputs": [
    {
     "data": {
      "text/plain": [
       "[<matplotlib.lines.Line2D at 0x1c016f96670>]"
      ]
     },
     "execution_count": 6,
     "metadata": {},
     "output_type": "execute_result"
    },
    {
     "data": {
      "image/png": "[encoded data removed]",
      "text/plain": [
       "<Figure size 432x288 with 1 Axes>"
      ]
     },
     "metadata": {
      "needs_background": "light"
     },
     "output_type": "display_data"
    }
   ],
   "source": [
    "## plot exact equations\n",
    "x_exact = np.linspace(0,1,20)\n",
    "Pe = Peclet(a[1], L, k)\n",
    "phi_exct = phi_exact(x_exact, Pe, L)\n",
    "plt.plot(x_exact, phi_exct)"
   ]
  },
  {
   "cell_type": "markdown",
   "metadata": {},
   "source": [
    "First Approach\n",
    "In this approach, from the formulations we made, we can create an iterative approach. However we need to first address the issue that the first pass will encounter values that are not yet valid. The way I will handle that is by selectively ignoring the terms that are not yet valid. This is a naive approach and we could speed the process up by taking different first guesses, such as interpolating between the boundaries,but that would be less general. The way this is set up, no assumption is made about the boundary conditions other then that they exist. In these equations, this is equivalent to setting those values to zero."
   ]
  },
  {
   "cell_type": "code",
   "execution_count": 141,
   "metadata": {
    "scrolled": true
   },
   "outputs": [
    {
     "name": "stdout",
     "output_type": "stream",
     "text": [
      "[[0.  0.5 1. ]\n",
      " [0.  nan 1. ]] [ True False  True]\n"
     ]
    }
   ],
   "source": [
    "## Setting up a \"mesh\"\n",
    "def create_mesh(boundary_values, boundary_locations, n_nodes, dimensions):\n",
    "    \"\"\"\n",
    "    takes 1d mesh conditions and returns a vector that only has values\n",
    "    where boundary conditions were specified. Row 0 is the coordinates\n",
    "    and Row 1 is the array values\n",
    "    \"\"\"\n",
    "    #create array of invalid values\n",
    "    mesh_values = np.full((n_nodes), np.nan)\n",
    "    \n",
    "    #create array with correct coordinates\n",
    "    mesh_coordinates = np.linspace(*dimensions, n_nodes)\n",
    "    \n",
    "    #stack the two arrays\n",
    "    mesh = np.stack([mesh_coordinates, mesh_values])\n",
    "    \n",
    "    #find the array index to apply the boundary condition to\n",
    "    boundary_indices = np.in1d(mesh[0, :], boundary_locations)\n",
    "    \n",
    "    #update the values array with the boundary conditions\n",
    "    mesh[1, boundary_indices] = boundary_values\n",
    "    \n",
    "    return mesh, boundary_indices\n",
    "\n",
    "mesh, indices = create_mesh(boundary_values = [0,1], boundary_locations = [0,1], n_nodes = 3, dimensions = [0,1])\n",
    "print(mesh, indices)"
   ]
  },
  {
   "cell_type": "markdown",
   "metadata": {},
   "source": [
    "$$\n",
    "a \\cdot \\frac{\\phi_{i+1} - \\phi_{i-1}}{2\\Delta x} - \\kappa \\frac{\\phi_{i-1}-2\\phi_i + \\phi_{i+1}}{\\Delta x^2} = 0\\\\\n",
    "\\implies \\phi_i = \\frac{\\phi_{i+1} + \\phi_{i-1}}{2} + \\frac{\\Delta x}{2\\kappa} \\left( a \\cdot \\frac{\\phi_{i+1} - \\phi_{i-1}}{2} \\right)\n",
    "$$"
   ]
  },
  {
   "cell_type": "code",
   "execution_count": 155,
   "metadata": {},
   "outputs": [],
   "source": [
    "## Setting up the basic finite difference functions\n",
    "def phi_CD_only(mesh_values, i, dx, k=1, a=1):\n",
    "    \"\"\"\n",
    "    takes a mesh array and a current index\n",
    "    and applies the equation at the current location based on current values\n",
    "    using the central difference method for both the convection and diffusion\n",
    "    \"\"\"\n",
    "    \n",
    "    ##handle invalid values\n",
    "    phi = mesh_values[i-1:i+2]\n",
    "    phi[np.isnan(phi)]=0\n",
    "    #print(phi)\n",
    "    \n",
    "    term_1 = phi[0]*(a*dx + 2*k)\n",
    "    term_2 = phi[2]*(2*k-a*dx)\n",
    "    phi[1] = (term_1 + term_2)/(4*k)\n",
    "    return None\n",
    "\n",
    "def phi_CD_and_FD(mesh_values, i, dx, k=1, a=1):\n",
    "    \"\"\"\n",
    "    takes a mesh array and a current index\n",
    "    and applies the equation at the current location based on current values\n",
    "    using the central difference method for both the convection and diffusion\n",
    "    \"\"\"\n",
    "    ##calculate the terms\n",
    "    ##handle invalid values\n",
    "\n",
    "    phi = mesh_values[i-1:i+2]\n",
    "    phi[np.isnan(phi)]=0\n",
    "    #print(phi)\n",
    "    \n",
    "    term_1 = phi[0]*(k)\n",
    "    term_2 = phi[2]*(k-a*dx)\n",
    "    phi[1] = (term_1 + term_2)/(2*k-a*dx)\n",
    "    return None\n",
    "\n",
    "def find_dx(mesh_coordinates, i):\n",
    "    \"\"\"\n",
    "    takes a mesh array and a current index\n",
    "    and finds the average delta x around that index. \n",
    "    It finds the exact dx for a uniform node distribution\n",
    "    but also handles the case where there are small \n",
    "    variations around a node of a uniform mesh\n",
    "    \"\"\"\n",
    "    ##get differential of coordinates around node\n",
    "    dx_array = np.diff(mesh_coordinates[i-1:i+2])\n",
    "    \n",
    "    ##get average delta\n",
    "    dx = dx_array.mean()\n",
    "    \n",
    "    return dx\n",
    "    \n",
    "def array_iteration(fun, mesh, fixed_index):\n",
    "    \"\"\"\n",
    "    takes a function and a mesh, and iterates through the mesh\n",
    "    values with the function\n",
    "    \"\"\"\n",
    "    \n",
    "    for i, coordinate in enumerate(mesh[0]):\n",
    "        ## if the location isn't a boundary condition\n",
    "        if not(fixed_index[i]):\n",
    "            #print(i)\n",
    "            dx = find_dx(mesh[0], i)\n",
    "            fun(mesh[1], i, dx)\n",
    "    \n"
   ]
  },
  {
   "cell_type": "code",
   "execution_count": 244,
   "metadata": {},
   "outputs": [
    {
     "name": "stdout",
     "output_type": "stream",
     "text": [
      "1 3 <function phi_CD_only at 0x000001C016F98DC0>\n",
      "1 3 <function phi_CD_and_FD at 0x000001C020FCE3A0>\n",
      "1 5 <function phi_CD_only at 0x000001C016F98DC0>\n",
      "1 5 <function phi_CD_and_FD at 0x000001C020FCE3A0>\n",
      "10 3 <function phi_CD_only at 0x000001C016F98DC0>\n",
      "10 3 <function phi_CD_and_FD at 0x000001C020FCE3A0>\n",
      "10 5 <function phi_CD_only at 0x000001C016F98DC0>\n",
      "10 5 <function phi_CD_and_FD at 0x000001C020FCE3A0>\n"
     ]
    }
   ],
   "source": [
    "## Create a for loop to create all necessary graphs\n",
    "\n",
    "\n",
    "\n",
    "\n",
    "\n",
    "## start with the convective velocities\n",
    "for velocity in a:\n",
    "    \n",
    "    ##create the exact solutions\n",
    "    x_exact = np.linspace(0,1,n_nodes_exact)\n",
    "    Pe = Peclet(velocity, L, k)\n",
    "    phi_ex = phi_exact(x_exact, Pe, L)\n",
    "\n",
    "    ## then the number of nodes for finite difference\n",
    "    for n_nodes in [3,5]:\n",
    "        \n",
    "        ##then for each of the schemes\n",
    "        for scheme in [phi_CD_only, phi_CD_and_FD]:\n",
    "            print(velocity,n_nodes, scheme)\n",
    "    "
   ]
  },
  {
   "cell_type": "code",
   "execution_count": 229,
   "metadata": {},
   "outputs": [],
   "source": [
    "n_nodes = 5\n",
    "mesh, indices = create_mesh(boundary_values = [0,1], boundary_locations = [0,1], n_nodes = n_nodes, dimensions = [0,1])"
   ]
  },
  {
   "cell_type": "code",
   "execution_count": 238,
   "metadata": {},
   "outputs": [
    {
     "data": {
      "text/plain": [
       "[<matplotlib.lines.Line2D at 0x1c01d968100>]"
      ]
     },
     "execution_count": 238,
     "metadata": {},
     "output_type": "execute_result"
    },
    {
     "data": {
      "image/png": "[encoded data removed]",
      "text/plain": [
       "<Figure size 432x288 with 1 Axes>"
      ]
     },
     "metadata": {
      "needs_background": "light"
     },
     "output_type": "display_data"
    }
   ],
   "source": [
    "x_exact = np.linspace(0,1,n_nodes)\n",
    "Pe = Peclet(a[1], L, k)\n",
    "phi_exct = phi_exact(x_exact, Pe, L)\n",
    "#plt.plot(x_exact, phi_exct)\n",
    "\n",
    "array_iteration(phi_CD_only, mesh, indices) \n",
    "#print(mesh)\n",
    "#plt.plot(mesh[0],mesh[1])\n",
    "plt.plot(mesh[1],phi_exct)\n",
    "#plt.plot(mesh[0],mesh[1]-phi_exct)"
   ]
  },
  {
   "cell_type": "code",
   "execution_count": 228,
   "metadata": {},
   "outputs": [
    {
     "data": {
      "text/plain": [
       "[<matplotlib.lines.Line2D at 0x1c01d5bbd00>]"
      ]
     },
     "execution_count": 228,
     "metadata": {},
     "output_type": "execute_result"
    },
    {
     "data": {
      "image/png": "[encoded data removed]",
      "text/plain": [
       "<Figure size 432x288 with 1 Axes>"
      ]
     },
     "metadata": {
      "needs_background": "light"
     },
     "output_type": "display_data"
    }
   ],
   "source": [
    "    x_exact = np.linspace(0,1,n_nodes)\n",
    "    Pe = Peclet(a[1], L, k)\n",
    "    phi_exct = phi_exact(x_exact, Pe, L)\n",
    "    #plt.plot(x_exact, phi_exct)\n",
    "\n",
    "\n",
    "    array_iteration(phi_CD_and_FD, mesh, indices) \n",
    "    #print(mesh)\n",
    "    #plt.plot(mesh[0],mesh[1])\n",
    "    #plt.plot(mesh[0],phi_exct)\n",
    "    plt.plot(mesh[1],phi_exct)\n",
    "    #plt.plot(mesh[0],mesh[1]-phi_exct)"
   ]
  },
  {
   "cell_type": "code",
   "execution_count": 191,
   "metadata": {},
   "outputs": [],
   "source": [
    "n_nodes = 5\n",
    "mesh, indices = create_mesh(boundary_values = [0,1], boundary_locations = [0,1], n_nodes = n_nodes, dimensions = [0,1])"
   ]
  },
  {
   "cell_type": "code",
   "execution_count": 201,
   "metadata": {},
   "outputs": [
    {
     "data": {
      "text/plain": [
       "[<matplotlib.lines.Line2D at 0x1c020cfb580>]"
      ]
     },
     "execution_count": 201,
     "metadata": {},
     "output_type": "execute_result"
    },
    {
     "data": {
      "image/png": "[encoded data removed]",
      "text/plain": [
       "<Figure size 432x288 with 1 Axes>"
      ]
     },
     "metadata": {
      "needs_background": "light"
     },
     "output_type": "display_data"
    }
   ],
   "source": [
    "    x_exact = np.linspace(0,1,n_nodes)\n",
    "    Pe = Peclet(a[1], L, k)\n",
    "    phi_exct = phi_exact(x_exact, Pe, L)\n",
    "    plt.plot(x_exact, phi_exct)\n",
    "\n",
    "\n",
    "    array_iteration(phi_CD_only, mesh, indices) \n",
    "    #print(mesh)\n",
    "    plt.plot(mesh[0],mesh[1])\n",
    "    plt.plot(mesh[0],phi_exct)\n",
    "    #plt.plot(mesh[0],mesh[1]-phi_exct)"
   ]
  },
  {
   "cell_type": "code",
   "execution_count": 140,
   "metadata": {},
   "outputs": [
    {
     "data": {
      "image/png": "[encoded data removed]",
      "text/plain": [
       "<Figure size 432x288 with 1 Axes>"
      ]
     },
     "metadata": {
      "needs_background": "light"
     },
     "output_type": "display_data"
    }
   ],
   "source": [
    "error_array = []\n",
    "for n_nodes in [3,5]:\n",
    "    mesh, indices = create_mesh(boundary_values = [0,1], boundary_locations = [0,1], n_nodes = n_nodes, dimensions = [0,1])\n",
    "    for i in range(0,3):\n",
    "        x_exact = np.linspace(0,1,n_nodes)\n",
    "        Pe = Peclet(a[1], L, k)\n",
    "        phi_exct = phi_exact(x_exact, Pe, L)\n",
    "        plt.plot(x_exact, phi_exct)\n",
    "\n",
    "\n",
    "        array_iteration(phi_CD_only, mesh, indices) \n",
    "        #print(mesh)\n",
    "        #plt.plot(mesh[0],mesh[1])\n",
    "        plt.plot(mesh[1],phi_exct)\n",
    "        #plt.plot(mesh[0],mesh[1]-phi_exct)\n",
    "\n",
    "        max_error = np.max(np.abs(mesh[1]-phi_exct))\n",
    "    error_array.append(max_error)"
   ]
  },
  {
   "cell_type": "code",
   "execution_count": 1504,
   "metadata": {},
   "outputs": [
    {
     "data": {
      "text/plain": [
       "[<matplotlib.lines.Line2D at 0x1c27f6a97f0>]"
      ]
     },
     "execution_count": 1504,
     "metadata": {},
     "output_type": "execute_result"
    },
    {
     "data": {
      "image/png": "[encoded data removed]",
      "text/plain": [
       "<Figure size 432x288 with 1 Axes>"
      ]
     },
     "metadata": {
      "needs_background": "light"
     },
     "output_type": "display_data"
    }
   ],
   "source": [
    "plt.plot(error_array)"
   ]
  },
  {
   "cell_type": "code",
   "execution_count": null,
   "metadata": {},
   "outputs": [],
   "source": []
  },
  {
   "cell_type": "code",
   "execution_count": null,
   "metadata": {},
   "outputs": [],
   "source": []
  },
  {
   "cell_type": "code",
   "execution_count": null,
   "metadata": {},
   "outputs": [],
   "source": []
  }
 ],
 "metadata": {
  "kernelspec": {
   "display_name": "Python 3",
   "language": "python",
   "name": "python3"
  },
  "language_info": {
   "codemirror_mode": {
    "name": "ipython",
    "version": 3
   },
   "file_extension": ".py",
   "mimetype": "text/x-python",
   "name": "python",
   "nbconvert_exporter": "python",
   "pygments_lexer": "ipython3",
   "version": "3.8.3"
  }
 },
 "nbformat": 4,
 "nbformat_minor": 4
}
