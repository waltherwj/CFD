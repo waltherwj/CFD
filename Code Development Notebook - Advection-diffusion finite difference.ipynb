{
 "cells": [
  {
   "cell_type": "markdown",
   "metadata": {},
   "source": [
    "Given the equations \n",
    "$$\n",
    "a \\cdot \\nabla \\phi -  \\kappa \\Delta \\phi = 0\\\\\n",
    "\\phi(0) = 0\\\\\n",
    "\\phi(1) = 1\\\\\n",
    "\\kappa = 1\\\\\n",
    "a = 1 \\ and\\  10\\\\\n",
    "L = 1\n",
    "$$\n",
    "\n",
    "find approximate solutions of $\\phi(x)$ for each of the following (combining each option, and convective velocities):\n",
    "- central difference for the diffusion term\n",
    "- central and up-wind for the convective term\n",
    "- uniform discretization with 3 and 5 nodes\n",
    "\n",
    "and compare to the exact solution given by \n",
    "$$\n",
    "\\phi(x) = \\frac{e^{Pe\\frac{x}{L}}-1}{e^{Pe}-1}\\\\\n",
    "Pe = \\frac{a \\cdot L}{\\kappa}\\\\\n",
    "$$\n",
    "\n",
    "Plot a total of 8 graphs for different convective velocities, convection schemes, and discretization, comparing with the exact solution. For each plot, describe the accuracy and behaviour of solution. "
   ]
  },
  {
   "cell_type": "code",
   "execution_count": 1,
   "metadata": {},
   "outputs": [],
   "source": [
    "## Imports\n",
    "import numpy as np\n",
    "import matplotlib.pyplot as plt"
   ]
  },
  {
   "cell_type": "code",
   "execution_count": 2,
   "metadata": {},
   "outputs": [],
   "source": [
    "## Variables\n",
    "a = [1,10]\n",
    "k = 1\n",
    "L = 1\n",
    "x_3 = np.linspace(0,1,3)\n",
    "x_5 = np.linspace(0,1,5)"
   ]
  },
  {
   "cell_type": "code",
   "execution_count": 3,
   "metadata": {},
   "outputs": [],
   "source": [
    "## define exact solution equations\n",
    "def phi_exact(x,  Pe, L):\n",
    "    phi = (np.exp(Pe*(x/L))-1)/(np.exp(Pe)-1)\n",
    "    return phi\n",
    "                    \n",
    "def Peclet(a, L, k):\n",
    "    Pe = a*L/k\n",
    "    return Pe         "
   ]
  },
  {
   "cell_type": "code",
   "execution_count": 9,
   "metadata": {},
   "outputs": [
    {
     "ename": "NameError",
     "evalue": "name 'x' is not defined",
     "output_type": "error",
     "traceback": [
      "\u001b[1;31m---------------------------------------------------------------------------\u001b[0m",
      "\u001b[1;31mNameError\u001b[0m                                 Traceback (most recent call last)",
      "\u001b[1;32m<ipython-input-9-6fcf9dfbd479>\u001b[0m in \u001b[0;36m<module>\u001b[1;34m\u001b[0m\n\u001b[1;32m----> 1\u001b[1;33m \u001b[0mx\u001b[0m\u001b[1;33m\u001b[0m\u001b[1;33m\u001b[0m\u001b[0m\n\u001b[0m",
      "\u001b[1;31mNameError\u001b[0m: name 'x' is not defined"
     ]
    }
   ],
   "source": []
  },
  {
   "cell_type": "code",
   "execution_count": 8,
   "metadata": {},
   "outputs": [
    {
     "data": {
      "text/plain": [
       "[<matplotlib.lines.Line2D at 0x153b363e100>]"
      ]
     },
     "execution_count": 8,
     "metadata": {},
     "output_type": "execute_result"
    },
    {
     "data": {
      "image/png": "[encoded data removed]",
      "text/plain": [
       "<Figure size 432x288 with 1 Axes>"
      ]
     },
     "metadata": {
      "needs_background": "light"
     },
     "output_type": "display_data"
    }
   ],
   "source": [
    "## plot exact equations\n",
    "Pe = Peclet(a[1], L, k)\n",
    "phi = phi_exact(x_5, Pe, L)\n",
    "plt.plot(x_5, phi)"
   ]
  },
  {
   "cell_type": "code",
   "execution_count": null,
   "metadata": {},
   "outputs": [],
   "source": []
  }
 ],
 "metadata": {
  "kernelspec": {
   "display_name": "Python 3",
   "language": "python",
   "name": "python3"
  },
  "language_info": {
   "codemirror_mode": {
    "name": "ipython",
    "version": 3
   },
   "file_extension": ".py",
   "mimetype": "text/x-python",
   "name": "python",
   "nbconvert_exporter": "python",
   "pygments_lexer": "ipython3",
   "version": "3.8.3"
  }
 },
 "nbformat": 4,
 "nbformat_minor": 4
}
