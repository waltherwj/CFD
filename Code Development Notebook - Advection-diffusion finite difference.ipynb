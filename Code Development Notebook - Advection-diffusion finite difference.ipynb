{
 "cells": [
  {
   "cell_type": "markdown",
   "metadata": {},
   "source": [
    "Given the equations \n",
    "$$\n",
    "a \\cdot \\nabla \\phi -  \\kappa \\Delta \\phi = 0\\\\\n",
    "\\phi(0) = 0\\\\\n",
    "\\phi(1) = 1\\\\\n",
    "\\kappa = 1\\\\\n",
    "a = 1 \\ and\\  10\\\\\n",
    "L = 1\n",
    "$$\n",
    "\n",
    "find approximate solutions of $\\phi(x)$ for each of the following (combining each option, and convective velocities):\n",
    "- central difference for the diffusion term\n",
    "- central and up-wind for the convective term\n",
    "- uniform discretization with 3 and 5 nodes\n",
    "\n",
    "and compare to the exact solution given by \n",
    "$$\n",
    "\\phi(x) = \\frac{e^{Pe\\frac{x}{L}}-1}{e^{Pe}-1}\\\\\n",
    "Pe = \\frac{a \\cdot L}{\\kappa}\\\\\n",
    "$$\n",
    "\n",
    "Plot a total of 8 graphs for different convective velocities, convection schemes, and discretization, comparing with the exact solution. For each plot, describe the accuracy and behaviour of solution. "
   ]
  },
  {
   "cell_type": "markdown",
   "metadata": {},
   "source": [
    "The operator $ a \\cdot \\nabla$ is equivalent to $a \\partial / \\partial x$ for this problem, and $\\Delta = \\nabla ^2 = \\partial^2 / \\partial x^2$. According to the calculations done in the course, the formulations for these operators is\n",
    "- Central difference 2nd order:\n",
    "$$\n",
    "\\partial^2 u/ \\partial x^2 = \\frac{u_{i-1}-2u_i + u_{i+1}}{\\Delta x^2} + O(\\Delta x^2)\n",
    "$$\n",
    "- Central difference 1st order:\n",
    "$$\n",
    "\\partial u/ \\partial x = \\frac{u_{i+1} - u_{i-1}}{2\\Delta x} + O(\\Delta x^2)\n",
    "$$\n",
    "- Forward difference 1st order:\n",
    "$$\n",
    "\\partial u/ \\partial x = \\frac{u_{i+1} - u_{i}}{\\Delta x} + O(\\Delta x)\n",
    "$$\n",
    "\n",
    "so ignoring the error as that is not a calculated term, but a representation of the total error of this approximation, the equation we want to solve is either \n",
    "- (1)\n",
    "$$\n",
    "a \\cdot \\frac{\\phi_{i+1} - \\phi_{i-1}}{2\\Delta x} - \\kappa \\frac{\\phi_{i-1}-2\\phi_i + \\phi_{i+1}}{\\Delta x^2} = 0\\\\\n",
    "\\implies \\phi_i = \\frac{\\phi_{i+1} + \\phi_{i-1}}{2} + \\frac{\\Delta x}{2\\kappa} \\left( a \\cdot \\frac{\\phi_{i+1} - \\phi_{i-1}}{2} \\right)\n",
    "$$\n",
    "\n",
    "and \n",
    "- (2)\n",
    "$$\n",
    "a \\cdot \\frac{\\phi_{i+1} - \\phi_{i}}{\\Delta x} - \\kappa \\frac{\\phi_{i-1}-2\\phi_i + \\phi_{i+1}}{\\Delta x^2} = 0\\\\\n",
    "\\implies \\phi_i  = -\\frac{\\frac{a}{\\Delta x}\\phi_{i+1} + \\frac{\\kappa}{\\Delta x^2} ( \\phi_{i-1} + \\phi_{i+1} )}{\\left( \\frac{a}{\\Delta x} - \\frac{2\\kappa}{\\Delta x^2}\\right)}\n",
    "$$\n"
   ]
  },
  {
   "cell_type": "code",
   "execution_count": 1,
   "metadata": {},
   "outputs": [],
   "source": [
    "## Imports\n",
    "import numpy as np\n",
    "import matplotlib.pyplot as plt"
   ]
  },
  {
   "cell_type": "code",
   "execution_count": 2,
   "metadata": {},
   "outputs": [],
   "source": [
    "## Variables\n",
    "a = [1,10]\n",
    "k = 1\n",
    "L = 1\n",
    "x_3 = np.linspace(0,1,3)\n",
    "x_5 = np.linspace(0,1,5)"
   ]
  },
  {
   "cell_type": "code",
   "execution_count": 3,
   "metadata": {},
   "outputs": [],
   "source": [
    "## define exact solution equations\n",
    "def phi_exact(x,  Pe, L):\n",
    "    \"calculates the exact value of the solution\"\n",
    "    phi = (np.exp(Pe*(x/L))-1)/(np.exp(Pe)-1)\n",
    "    return phi\n",
    "                    \n",
    "def Peclet(a, L, k):\n",
    "    \"calculates peclet number\"\n",
    "    Pe = a*L/k\n",
    "    return Pe         "
   ]
  },
  {
   "cell_type": "code",
   "execution_count": 9,
   "metadata": {},
   "outputs": [
    {
     "data": {
      "text/plain": [
       "[<matplotlib.lines.Line2D at 0x1c223783460>]"
      ]
     },
     "execution_count": 9,
     "metadata": {},
     "output_type": "execute_result"
    },
    {
     "data": {
      "image/png": "[encoded data removed]",
      "text/plain": [
       "<Figure size 432x288 with 1 Axes>"
      ]
     },
     "metadata": {
      "needs_background": "light"
     },
     "output_type": "display_data"
    }
   ],
   "source": [
    "## plot exact equations\n",
    "x_exact = np.linspace(0,1,100)\n",
    "Pe = Peclet(a[1], L, k)\n",
    "phi = phi_exact(x_exact, Pe, L)\n",
    "plt.plot(x_exact, phi)"
   ]
  },
  {
   "cell_type": "markdown",
   "metadata": {},
   "source": [
    "First Approach\n",
    "In this approach, from the formulations we made, we can create an iterative approach. However we need to first address the issue that the first pass will encounter values that are not yet valid. The way I will handle that is by selectively ignoring the terms that are not yet valid. This is a naive approach and we could speed the process up by taking different first guesses, such as interpolating between the boundaries,but that would be less general. The way this is set up, no assumption is made about the boundary conditions other then that they exist."
   ]
  },
  {
   "cell_type": "code",
   "execution_count": 41,
   "metadata": {
    "scrolled": true
   },
   "outputs": [
    {
     "name": "stdout",
     "output_type": "stream",
     "text": [
      "[[0.   0.25 0.5  0.75 1.  ]\n",
      " [0.    nan  nan  nan 1.  ]]\n"
     ]
    },
    {
     "data": {
      "text/plain": [
       "array([[0.  , 0.25, 0.5 , 0.75, 1.  ],\n",
       "       [0.  ,  nan,  nan,  nan, 1.  ]])"
      ]
     },
     "execution_count": 41,
     "metadata": {},
     "output_type": "execute_result"
    }
   ],
   "source": [
    "## Setting up a \"mesh\"\n",
    "def create_mesh(boundary_values, boundary_locations, n_nodes, dimensions):\n",
    "    \"\"\"\n",
    "    takes 1d mesh conditions and returns a vector that only has values\n",
    "    where boundary conditions were specified\n",
    "    \"\"\"\n",
    "    #create array of invalid values\n",
    "    mesh_values = np.full((n_nodes), np.nan)\n",
    "    \n",
    "    #create array with correct coordinates\n",
    "    mesh_coordinates = np.linspace(*dimensions, n_nodes)\n",
    "    \n",
    "    #stack the two arrays\n",
    "    mesh = np.stack([mesh_coordinates, mesh_values])\n",
    "    \n",
    "    #find the array index to apply the boundary condition to\n",
    "    boundary_indices = np.in1d(mesh[0, :], boundary_locations)\n",
    "    \n",
    "    #update the values array with the boundary conditions\n",
    "    mesh[1, boundary_indices] = boundary_values\n",
    "    \n",
    "    print(mesh)\n",
    "    \n",
    "    return mesh\n",
    "\n",
    "mesh = create_mesh(boundary_values = [0,1], boundary_locations = [0,1], n_nodes = 5, dimensions = [0,1])\n",
    "mesh"
   ]
  },
  {
   "cell_type": "code",
   "execution_count": 22,
   "metadata": {},
   "outputs": [
    {
     "data": {
      "text/plain": [
       "array([0.  , 0.25, 0.5 , 0.75, 1.  ])"
      ]
     },
     "execution_count": 22,
     "metadata": {},
     "output_type": "execute_result"
    }
   ],
   "source": []
  }
 ],
 "metadata": {
  "kernelspec": {
   "display_name": "Python 3",
   "language": "python",
   "name": "python3"
  },
  "language_info": {
   "codemirror_mode": {
    "name": "ipython",
    "version": 3
   },
   "file_extension": ".py",
   "mimetype": "text/x-python",
   "name": "python",
   "nbconvert_exporter": "python",
   "pygments_lexer": "ipython3",
   "version": "3.8.3"
  }
 },
 "nbformat": 4,
 "nbformat_minor": 4
}
